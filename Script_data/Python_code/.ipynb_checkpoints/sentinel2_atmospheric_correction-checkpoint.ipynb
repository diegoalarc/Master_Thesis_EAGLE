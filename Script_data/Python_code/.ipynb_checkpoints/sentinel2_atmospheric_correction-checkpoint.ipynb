{
 "cells": [
  {
   "cell_type": "markdown",
   "metadata": {},
   "source": [
    "# Sentinel-2 Cloud & Shadow mask with atmospheric Correction in Google Earth Engine"
   ]
  },
  {
   "cell_type": "markdown",
   "metadata": {},
   "source": [
    "### Import modules and initialize Earth Engine"
   ]
  },
  {
   "cell_type": "code",
   "execution_count": null,
   "metadata": {},
   "outputs": [],
   "source": [
    "# Atmospheric correction obtained from:\n",
    "# https://github.com/samsammurphy/gee-atmcorr-S2\n",
    "# Cloud and shadow mask obtained from GEE\n",
    "# https://developers.google.com/earth-engine/tutorials/community/sentinel-2-s2cloudless\n",
    "\n",
    "import ee\n",
    "import geemap\n",
    "#from Py6S import * #The Py6S package is embedded into the atmospheric functions\n",
    "import os, sys, time, math, datetime\n",
    "from atmospheric import atmCorr, S2_L1C\n",
    "\n",
    "# Trigger the authentication flow.\n",
    "#ee.Authenticate()\n",
    "\n",
    "# Initialize the library.\n",
    "ee.Initialize()"
   ]
  },
  {
   "cell_type": "markdown",
   "metadata": {},
   "source": [
    "### Test SixS from Py6S package"
   ]
  },
  {
   "cell_type": "code",
   "execution_count": null,
   "metadata": {},
   "outputs": [],
   "source": [
    "# Instantiate\n",
    "#s = SixS()\n",
    "\n",
    "#SixS.test()\n",
    "\n",
    "# Update geemap package\n",
    "#geemap.update_package()"
   ]
  },
  {
   "cell_type": "markdown",
   "metadata": {},
   "source": [
    "### Define the time"
   ]
  },
  {
   "cell_type": "code",
   "execution_count": null,
   "metadata": {},
   "outputs": [],
   "source": [
    "# Define collection filter and cloud mask parameters\n",
    "# year1 should be between 2017 to 2019 for our case of study.\n",
    "year1 = 2019\n",
    "year2 = year1 + 1\n",
    "\n",
    "START_DATE = ee.Date(str(year1) + '-10-01')\n",
    "END_DATE = ee.Date(str(year2) + '-01-01')\n",
    "CLOUD_FILTER = 40"
   ]
  },
  {
   "cell_type": "markdown",
   "metadata": {},
   "source": [
    "### Region of study"
   ]
  },
  {
   "cell_type": "code",
   "execution_count": null,
   "metadata": {},
   "outputs": [],
   "source": [
    "# The following code will determine the region where the analysis is apply\n",
    "# Rectangle with the ROI\n",
    "# The images of Carmen Rosa must be obtained between the years 2017 to 2019\n",
    "# between the months of October to December of those years.\n",
    "\n",
    "# ROI Carmen Rosa\n",
    "geom = ee.Geometry.Rectangle(-70.8200199999999995, -33.7983520000000013, \n",
    "                             -70.8068049999999971, -33.7804399999999987)\n",
    "\n",
    "# ROI Quimetal\n",
    "# Quimetal images should be obtained only in 2019 between the months of October to December.\n",
    "#geom = ee.Geometry.Rectangle(-70.8437269,-33.6509093,\n",
    "#                             -70.8383469,-33.6552673)"
   ]
  },
  {
   "cell_type": "markdown",
   "metadata": {},
   "source": [
    "### Build a Sentinel-2 collection"
   ]
  },
  {
   "cell_type": "code",
   "execution_count": null,
   "metadata": {},
   "outputs": [],
   "source": [
    "# Import and filter S2.\n",
    "S2 = (ee.ImageCollection('COPERNICUS/S2')\n",
    "    .filterBounds(geom)\n",
    "    .filterDate(START_DATE, END_DATE)\n",
    "    .filter(ee.Filter.lte('CLOUDY_PIXEL_PERCENTAGE', CLOUD_FILTER))\n",
    "    .map(lambda x: x.clip(geom)))"
   ]
  },
  {
   "cell_type": "markdown",
   "metadata": {},
   "source": [
    "### Path folder in GEE to save the imageColletion\n",
    "#### GEE path to save the image inside of a image collection (GEE account)"
   ]
  },
  {
   "cell_type": "code",
   "execution_count": null,
   "metadata": {
    "scrolled": false
   },
   "outputs": [],
   "source": [
    "gpath = 'users/diegoalarcondiaz/Carmen_Rosa_L2A/'\n",
    "#gpath = 'users/diegoalarcondiaz/Quimetal_L2A/'"
   ]
  },
  {
   "cell_type": "markdown",
   "metadata": {},
   "source": [
    "### Application of Conversion from function S2_L1C\n",
    "#### Conversion function in a bash process"
   ]
  },
  {
   "cell_type": "code",
   "execution_count": null,
   "metadata": {
    "scrolled": false
   },
   "outputs": [],
   "source": [
    "S2_L1C.conversion(geom, S2, gpath)"
   ]
  },
  {
   "cell_type": "markdown",
   "metadata": {},
   "source": [
    "### Cheking the cloud and shadow mask"
   ]
  },
  {
   "cell_type": "code",
   "execution_count": null,
   "metadata": {
    "scrolled": false
   },
   "outputs": [],
   "source": [
    "Map = geemap.Map(center=[-70.81, -33.789], zoom=17)\n",
    "\n",
    "vis_params = {\"min\": 300,\n",
    "              \"max\": 3500,\n",
    "              \"bands\": [\"B4\", \"B3\", \"B2\"]}\n",
    "\n",
    "Map.centerObject(geom)\n",
    "Map.addLayer(S2, {}, \"Sentinel-2 Cloud and Shadow mask\", False)\n",
    "Map.add_time_slider(S2, vis_params)\n",
    "Map.addLayer(geom)\n",
    "Map"
   ]
  },
  {
   "cell_type": "markdown",
   "metadata": {},
   "source": [
    "### Checking convertion image Sentinel-2 BOA"
   ]
  },
  {
   "cell_type": "code",
   "execution_count": null,
   "metadata": {},
   "outputs": [],
   "source": [
    "# Create a default map\n",
    "Map = geemap.Map(center=[-70.81, -33.789], zoom=17)\n",
    "\n",
    "vis_params = {\"min\": 0,\n",
    "              \"max\": 0.3,\n",
    "              \"bands\": [\"B4\", \"B3\", \"B2\"]}\n",
    "\n",
    "# Carmen Rosa L2A\n",
    "S2_BOA = (ee.ImageCollection('users/diegoalarcondiaz/Carmen_Rosa_L2A')\n",
    "             .filterBounds(geom)\n",
    "             .filterDate(START_DATE, END_DATE)\n",
    "             .map(lambda x: x.clip(geom)))\n",
    "\n",
    "# Quimetal L2A\n",
    "#S2_BOA = (ee.ImageCollection('users/diegoalarcondiaz/Quimetal_L2A')\n",
    "#             .filterBounds(geom)\n",
    "#             .filterDate(START_DATE, END_DATE)\n",
    "#             .map(lambda x: x.clip(geom)))\n",
    "\n",
    "Map.centerObject(geom)\n",
    "Map.addLayer(S2_BOA, {}, \"Sentinel-2 BOA\", False)\n",
    "Map.add_time_slider(S2_BOA, vis_params)\n",
    "Map.addLayer(geom)\n",
    "Map"
   ]
  },
  {
   "cell_type": "code",
   "execution_count": null,
   "metadata": {},
   "outputs": [],
   "source": []
  }
 ],
 "metadata": {
  "anaconda-cloud": {},
  "kernelspec": {
   "display_name": "Python 3",
   "language": "python",
   "name": "python3"
  },
  "language_info": {
   "codemirror_mode": {
    "name": "ipython",
    "version": 3
   },
   "file_extension": ".py",
   "mimetype": "text/x-python",
   "name": "python",
   "nbconvert_exporter": "python",
   "pygments_lexer": "ipython3",
   "version": "3.7.7"
  }
 },
 "nbformat": 4,
 "nbformat_minor": 4
}
